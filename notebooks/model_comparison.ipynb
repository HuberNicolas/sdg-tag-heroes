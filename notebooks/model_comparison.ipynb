{
 "cells": [
  {
   "metadata": {
    "ExecuteTime": {
     "end_time": "2024-11-28T21:18:27.427001Z",
     "start_time": "2024-11-28T21:18:27.406203Z"
    }
   },
   "cell_type": "code",
   "source": [
    "# Imports\n",
    "import time\n",
    "from typing import Literal\n",
    "from pydantic import Field\n",
    "import pandas as pd\n",
    "from pydantic import BaseModel\n",
    "from sqlalchemy.orm import sessionmaker, relationship, joinedload\n",
    "from db.mariadb_connector import engine as mariadb_engine\n",
    "\n",
    "from datetime import datetime\n",
    "from zoneinfo import ZoneInfo\n",
    "\n",
    "from models.sdg_prediction import SDGPrediction\n",
    "from models.publications.publication import Publication\n",
    "\n",
    "from settings.settings import ExplainerSettings\n",
    "from utils.env_loader import load_env, get_env_variable\n",
    "\n"
   ],
   "id": "f9c2185b144ef267",
   "outputs": [],
   "execution_count": 23
  },
  {
   "metadata": {
    "ExecuteTime": {
     "end_time": "2024-11-28T21:18:27.479884Z",
     "start_time": "2024-11-28T21:18:27.465892Z"
    }
   },
   "cell_type": "code",
   "source": [
    "from utils.logger import logger\n",
    "logging = logger(\"exploration.log\")"
   ],
   "id": "e4fda8b5ed38513e",
   "outputs": [
    {
     "name": "stdout",
     "output_type": "stream",
     "text": [
      "Configuring logger at: logs/exploration.log\n",
      "Log file path: logs/exploration.log\n",
      "Created Logger: <module 'logging' from '/Users/nicolas/miniconda3/envs/p3.10.14-mt-igcl/lib/python3.10/logging/__init__.py'>\n"
     ]
    }
   ],
   "execution_count": 24
  },
  {
   "metadata": {
    "ExecuteTime": {
     "end_time": "2024-11-28T21:18:34.931512Z",
     "start_time": "2024-11-28T21:18:34.927939Z"
    }
   },
   "cell_type": "code",
   "source": [
    "# Initialize session\n",
    "Session = sessionmaker(bind=mariadb_engine)"
   ],
   "id": "d9e2ed28247c3072",
   "outputs": [],
   "execution_count": 25
  },
  {
   "metadata": {
    "ExecuteTime": {
     "end_time": "2024-11-28T21:18:42.085347Z",
     "start_time": "2024-11-28T21:18:42.080803Z"
    }
   },
   "cell_type": "code",
   "source": [
    "import models.sdg_prediction\n",
    "import models.sdg_label_summary"
   ],
   "id": "30142d170bd2bac6",
   "outputs": [],
   "execution_count": 26
  },
  {
   "metadata": {
    "ExecuteTime": {
     "end_time": "2024-11-28T21:18:49.192911Z",
     "start_time": "2024-11-28T21:18:49.190044Z"
    }
   },
   "cell_type": "code",
   "source": [
    "import os\n",
    "\n",
    "# Ensure directory for storing plots exists\n",
    "output_dir = \"sdg_histograms\"\n",
    "os.makedirs(output_dir, exist_ok=True)"
   ],
   "id": "109dbbf871a385f2",
   "outputs": [],
   "execution_count": 27
  },
  {
   "metadata": {
    "ExecuteTime": {
     "end_time": "2024-11-28T21:18:55.874411Z",
     "start_time": "2024-11-28T21:18:55.867359Z"
    }
   },
   "cell_type": "code",
   "source": [
    "AURORA_MODEL_STRING = \"Aurora\"\n",
    "DVDBLK_MODEL_STRING = \"Dvdblk\"\n",
    "DVDBLK_SOFTMAX_MODEL_STRING = \"Dvdblk_Softmax\"\n",
    "\n",
    "models = [AURORA_MODEL_STRING, DVDBLK_MODEL_STRING, DVDBLK_SOFTMAX_MODEL_STRING]\n",
    "#models = [AURORA_MODEL_STRING]\n",
    "\n",
    "class Prediction(BaseModel):\n",
    "    name: str\n",
    "    predictions: list\n",
    "    df: pd.DataFrame = Field(default=None)\n",
    "    class Config:  # Allow arbitrary types like pd.DataFrame\n",
    "        arbitrary_types_allowed = True"
   ],
   "id": "329a1d8e07759d08",
   "outputs": [],
   "execution_count": 28
  },
  {
   "metadata": {
    "ExecuteTime": {
     "end_time": "2024-11-28T21:19:09.216440Z",
     "start_time": "2024-11-28T21:19:08.815325Z"
    }
   },
   "cell_type": "code",
   "source": "model_predictions: list[Prediction] = []",
   "id": "d40c9d55e9cf6b13",
   "outputs": [],
   "execution_count": 29
  },
  {
   "metadata": {
    "ExecuteTime": {
     "end_time": "2024-11-28T21:19:23.978741Z",
     "start_time": "2024-11-28T21:19:11.882233Z"
    }
   },
   "cell_type": "code",
   "source": [
    "with Session() as session:\n",
    "    for model in models:\n",
    "        start = time.time()\n",
    "        predictions = session.query(SDGPrediction).filter(SDGPrediction.prediction_model == model).all()\n",
    "        end = time.time()\n",
    "        print(f\"  Found {len(predictions)} predictions for {model} model. Took {end - start} seconds.\")\n",
    "        # Convert predictions to a DataFrame\n",
    "        predictions_data = [\n",
    "            {\n",
    "                \"sdg1\": p.sdg1, \"sdg2\": p.sdg2, \"sdg3\": p.sdg3, \"sdg4\": p.sdg4,\n",
    "                \"sdg5\": p.sdg5, \"sdg6\": p.sdg6, \"sdg7\": p.sdg7, \"sdg8\": p.sdg8,\n",
    "                \"sdg9\": p.sdg9, \"sdg10\": p.sdg10, \"sdg11\": p.sdg11, \"sdg12\": p.sdg12,\n",
    "                \"sdg13\": p.sdg13, \"sdg14\": p.sdg14, \"sdg15\": p.sdg15, \"sdg16\": p.sdg16,\n",
    "                \"sdg17\": p.sdg17\n",
    "            }\n",
    "            for p in predictions\n",
    "        ]\n",
    "\n",
    "        # Create DataFrame and add to Prediction instance\n",
    "        df = pd.DataFrame(predictions_data)\n",
    "        p = Prediction(name=model, predictions=predictions, df=df)\n",
    "        model_predictions.append(p)\n",
    "\n"
   ],
   "id": "fcb07421934f37ea",
   "outputs": [
    {
     "name": "stdout",
     "output_type": "stream",
     "text": [
      "  Found 116959 predictions for Aurora model. Took 2.820990800857544 seconds.\n",
      "  Found 116959 predictions for Dvdblk model. Took 3.222998857498169 seconds.\n",
      "  Found 116959 predictions for Dvdblk_Softmax model. Took 3.313624143600464 seconds.\n"
     ]
    }
   ],
   "execution_count": 30
  },
  {
   "metadata": {
    "ExecuteTime": {
     "end_time": "2024-11-28T21:19:24.006147Z",
     "start_time": "2024-11-28T21:19:24.002526Z"
    }
   },
   "cell_type": "code",
   "source": [
    "SDG_COLORS = {\n",
    "    1: \"#E5243B\", 2: \"#DDA63A\", 3: \"#4C9F38\", 4: \"#C5192D\", 5: \"#FF3A21\",\n",
    "    6: \"#26BDE2\", 7: \"#FCC30B\", 8: \"#A21942\", 9: \"#FD6925\", 10: \"#DD1367\",\n",
    "    11: \"#FD9D24\", 12: \"#BF8B2E\", 13: \"#3F7E44\", 14: \"#0A97D9\", 15: \"#56C02B\",\n",
    "    16: \"#00689D\", 17: \"#19486A\"\n",
    "}"
   ],
   "id": "3e231f7ad9ce5b35",
   "outputs": [],
   "execution_count": 31
  },
  {
   "metadata": {},
   "cell_type": "code",
   "source": [
    "import seaborn as sns\n",
    "import matplotlib.pyplot as plt\n",
    "import pandas as pd"
   ],
   "id": "b98879588bf3343d",
   "outputs": [],
   "execution_count": 32
  },
  {
   "metadata": {
    "ExecuteTime": {
     "end_time": "2024-11-28T21:20:03.500791Z",
     "start_time": "2024-11-28T21:19:44.902670Z"
    }
   },
   "cell_type": "code",
   "source": [
    "# Plot histograms and save as PDF\n",
    "for prediction in model_predictions:\n",
    "    model_name = prediction.name\n",
    "    df = prediction.df\n",
    "    print(f\"Plotting and saving histograms for model: {model_name}\")\n",
    "    for i in range(1, 18):  # SDGs 1 through 17\n",
    "        column_name = f\"sdg{i}\"\n",
    "        if column_name in df.columns:\n",
    "            # Plot the histogram\n",
    "            plt.figure(figsize=(8, 6))\n",
    "            sns.histplot(df[column_name], kde=True, color=SDG_COLORS[i], bins=10)\n",
    "            plt.title(f\"Histogram for SDG {i} ({model_name} model)\", fontsize=16)\n",
    "            plt.xlabel(f\"SDG {i} Values\", fontsize=14)\n",
    "            plt.ylabel(\"Frequency\", fontsize=14)\n",
    "            plt.grid(axis=\"y\", linestyle=\"--\", alpha=0.7)\n",
    "\n",
    "            # Save the plot as PDF\n",
    "            pdf_filename = os.path.join(output_dir, f\"{model_name}_SDG{i}.pdf\")\n",
    "            plt.savefig(pdf_filename, format=\"pdf\", bbox_inches=\"tight\")\n",
    "            plt.close()  # Close the plot to free memory"
   ],
   "id": "515928cb4d156abb",
   "outputs": [
    {
     "name": "stdout",
     "output_type": "stream",
     "text": [
      "Plotting and saving histograms for model: Aurora\n",
      "Plotting and saving histograms for model: Dvdblk\n",
      "Plotting and saving histograms for model: Dvdblk_Softmax\n"
     ]
    }
   ],
   "execution_count": 33
  },
  {
   "metadata": {
    "ExecuteTime": {
     "end_time": "2024-11-28T21:20:03.512145Z",
     "start_time": "2024-11-28T21:20:03.509503Z"
    }
   },
   "cell_type": "code",
   "source": "from matplotlib.backends.backend_pdf import PdfPages",
   "id": "e9f7a6922ded7b1c",
   "outputs": [],
   "execution_count": 34
  },
  {
   "metadata": {
    "ExecuteTime": {
     "end_time": "2024-11-28T21:20:28.652011Z",
     "start_time": "2024-11-28T21:20:11.111184Z"
    }
   },
   "cell_type": "code",
   "source": [
    "# Plot histograms and save as a single PDF\n",
    "for prediction in model_predictions:\n",
    "    model_name = prediction.name\n",
    "    df = prediction.df\n",
    "    print(f\"Plotting and saving histograms for model: {model_name} in a single PDF\")\n",
    "\n",
    "    # Define the output PDF filename\n",
    "    pdf_filename = os.path.join(output_dir, f\"{model_name}_All_SDG_Histograms.pdf\")\n",
    "\n",
    "    # Create a PdfPages object to store multiple plots\n",
    "    with PdfPages(pdf_filename) as pdf:\n",
    "        for i in range(1, 18):  # SDGs 1 through 17\n",
    "            column_name = f\"sdg{i}\"\n",
    "            if column_name in df.columns:\n",
    "                # Plot the histogram\n",
    "                plt.figure(figsize=(8, 6))\n",
    "                sns.histplot(df[column_name], kde=True, color=SDG_COLORS[i], bins=10)\n",
    "                plt.title(f\"Histogram for SDG {i} ({model_name} model)\", fontsize=16)\n",
    "                plt.xlabel(f\"SDG {i} Values\", fontsize=14)\n",
    "                plt.ylabel(\"Frequency\", fontsize=14)\n",
    "                plt.grid(axis=\"y\", linestyle=\"--\", alpha=0.7)\n",
    "\n",
    "                # Add the plot to the PDF\n",
    "                pdf.savefig()  # Save the current figure into the PDF\n",
    "                plt.close()  # Close the plot to free memory\n",
    "\n",
    "    print(f\"Saved all histograms for model {model_name} in {pdf_filename}\")"
   ],
   "id": "d1cf25efc66f9b81",
   "outputs": [
    {
     "name": "stdout",
     "output_type": "stream",
     "text": [
      "Plotting and saving histograms for model: Aurora in a single PDF\n",
      "Saved all histograms for model Aurora in sdg_histograms/Aurora_All_SDG_Histograms.pdf\n",
      "Plotting and saving histograms for model: Dvdblk in a single PDF\n",
      "Saved all histograms for model Dvdblk in sdg_histograms/Dvdblk_All_SDG_Histograms.pdf\n",
      "Plotting and saving histograms for model: Dvdblk_Softmax in a single PDF\n",
      "Saved all histograms for model Dvdblk_Softmax in sdg_histograms/Dvdblk_Softmax_All_SDG_Histograms.pdf\n"
     ]
    }
   ],
   "execution_count": 35
  },
  {
   "metadata": {
    "ExecuteTime": {
     "end_time": "2024-11-28T21:20:51.589907Z",
     "start_time": "2024-11-28T21:20:35.683300Z"
    }
   },
   "cell_type": "code",
   "source": [
    "# Plot histograms using subplots and save as a single PDF\n",
    "for prediction in model_predictions:\n",
    "    model_name = prediction.name\n",
    "    df = prediction.df\n",
    "    print(f\"Plotting and saving histograms for model: {model_name} using subplots in a single PDF\")\n",
    "\n",
    "    # Define the output PDF filename\n",
    "    pdf_filename = os.path.join(output_dir, f\"{model_name}_All_SDG_Histograms_Subplots.pdf\")\n",
    "\n",
    "    # Create a PdfPages object to store the figure\n",
    "    with PdfPages(pdf_filename) as pdf:\n",
    "        # Create a figure for all histograms\n",
    "        fig, axes = plt.subplots(5, 4, figsize=(20, 15))  # Adjust rows/cols as needed\n",
    "        axes = axes.flatten()  # Flatten the 2D array of axes to make indexing easier\n",
    "\n",
    "        for i in range(1, 18):  # SDGs 1 through 17\n",
    "            column_name = f\"sdg{i}\"\n",
    "            if column_name in df.columns:\n",
    "                ax = axes[i - 1]  # Access the corresponding subplot\n",
    "                sns.histplot(df[column_name], kde=True, color=SDG_COLORS[i], bins=10, ax=ax)\n",
    "                ax.set_title(f\"SDG {i} ({model_name})\", fontsize=10)\n",
    "                ax.set_xlabel(f\"SDG {i} Values\", fontsize=8)\n",
    "                ax.set_ylabel(\"Frequency\", fontsize=8)\n",
    "                ax.grid(axis=\"y\", linestyle=\"--\", alpha=0.7)\n",
    "\n",
    "        # Remove unused subplots (18th and 19th positions in this case)\n",
    "        for j in range(17, len(axes)):\n",
    "            fig.delaxes(axes[j])\n",
    "\n",
    "        # Adjust layout\n",
    "        plt.tight_layout()\n",
    "\n",
    "        # Save the single figure with all histograms into the PDF\n",
    "        pdf.savefig(fig)\n",
    "        plt.close(fig)  # Close the figure to free memory\n",
    "\n",
    "    print(f\"Saved all histograms for model {model_name} in {pdf_filename}\")"
   ],
   "id": "712ff8b127f34c20",
   "outputs": [
    {
     "name": "stdout",
     "output_type": "stream",
     "text": [
      "Plotting and saving histograms for model: Aurora using subplots in a single PDF\n",
      "Saved all histograms for model Aurora in sdg_histograms/Aurora_All_SDG_Histograms_Subplots.pdf\n",
      "Plotting and saving histograms for model: Dvdblk using subplots in a single PDF\n",
      "Saved all histograms for model Dvdblk in sdg_histograms/Dvdblk_All_SDG_Histograms_Subplots.pdf\n",
      "Plotting and saving histograms for model: Dvdblk_Softmax using subplots in a single PDF\n",
      "Saved all histograms for model Dvdblk_Softmax in sdg_histograms/Dvdblk_Softmax_All_SDG_Histograms_Subplots.pdf\n"
     ]
    }
   ],
   "execution_count": 36
  },
  {
   "metadata": {
    "ExecuteTime": {
     "end_time": "2024-11-28T21:20:58.812478Z",
     "start_time": "2024-11-28T21:20:58.808413Z"
    }
   },
   "cell_type": "code",
   "source": [
    "# Define the rescaling function\n",
    "def rescale_sdg_value(value):\n",
    "    threshold = 0.85\n",
    "    lower_rescale_factor = 0.5 / 0.85\n",
    "    upper_rescale_factor = 0.5 / 0.15\n",
    "    if value < threshold:\n",
    "        return lower_rescale_factor * value\n",
    "    else:\n",
    "        return upper_rescale_factor * value + (1 - upper_rescale_factor)"
   ],
   "id": "3b8130a7e60d8e83",
   "outputs": [],
   "execution_count": 37
  },
  {
   "metadata": {
    "ExecuteTime": {
     "end_time": "2024-11-28T21:21:12.504609Z",
     "start_time": "2024-11-28T21:21:05.950821Z"
    }
   },
   "cell_type": "code",
   "source": [
    "# Rescale and add columns, then plot\n",
    "for prediction in model_predictions:\n",
    "    model_name = prediction.name\n",
    "    if model_name == \"Aurora\":\n",
    "        df = prediction.df\n",
    "\n",
    "\n",
    "        # Rescale each SDG column\n",
    "        for i in range(1, 18):  # SDGs 1 through 17\n",
    "            column_name = f\"sdg{i}\"\n",
    "            rescaled_column_name = f\"rescaled_{column_name}\"\n",
    "            if column_name in df.columns:\n",
    "                df[rescaled_column_name] = df[column_name].apply(rescale_sdg_value)\n",
    "\n",
    "        print(f\"Plotting and saving histograms for rescaled columns of model: {model_name}\")\n",
    "        for i in range(1, 18):  # SDGs 1 through 17\n",
    "            column_name = f\"sdg{i}\"\n",
    "            rescaled_column_name = f\"rescaled_{column_name}\"\n",
    "            if rescaled_column_name in df.columns:\n",
    "                # Plot the histogram for rescaled values\n",
    "                plt.figure(figsize=(8, 6))\n",
    "                sns.histplot(df[rescaled_column_name], kde=True, color=SDG_COLORS[i], bins=10)\n",
    "                plt.title(f\"Histogram for Rescaled SDG {i} ({model_name} model)\", fontsize=16)\n",
    "                plt.xlabel(f\"Rescaled SDG {i} Values\", fontsize=14)\n",
    "                plt.ylabel(\"Frequency\", fontsize=14)\n",
    "                plt.grid(axis=\"y\", linestyle=\"--\", alpha=0.7)\n",
    "\n",
    "                # Save the plot as PDF\n",
    "                pdf_filename = os.path.join(output_dir, f\"{model_name}_Rescaled_SDG{i}.pdf\")\n",
    "                plt.savefig(pdf_filename, format=\"pdf\", bbox_inches=\"tight\")\n",
    "                plt.close()  # Close the plot to free memory\n",
    "    else:\n",
    "        pass"
   ],
   "id": "c45c6d05b76d7f40",
   "outputs": [
    {
     "name": "stdout",
     "output_type": "stream",
     "text": [
      "Plotting and saving histograms for rescaled columns of model: Aurora\n"
     ]
    }
   ],
   "execution_count": 38
  },
  {
   "metadata": {
    "ExecuteTime": {
     "end_time": "2024-11-28T21:21:34.095229Z",
     "start_time": "2024-11-28T21:21:28.134467Z"
    }
   },
   "cell_type": "code",
   "source": [
    "# Rescale and plot histograms using subplots\n",
    "for prediction in model_predictions:\n",
    "    model_name = prediction.name\n",
    "    if model_name == \"Aurora\":\n",
    "        df = prediction.df\n",
    "\n",
    "        # Rescale each SDG column\n",
    "        for i in range(1, 18):  # SDGs 1 through 17\n",
    "            column_name = f\"sdg{i}\"\n",
    "            rescaled_column_name = f\"rescaled_{column_name}\"\n",
    "            if column_name in df.columns:\n",
    "                df[rescaled_column_name] = df[column_name].apply(rescale_sdg_value)\n",
    "\n",
    "        print(f\"Plotting and saving histograms for rescaled columns of model: {model_name} using subplots in a single PDF\")\n",
    "\n",
    "        # Define the output PDF filename\n",
    "        pdf_filename = os.path.join(output_dir, f\"{model_name}_All_Rescaled_SDG_Histograms_Subplots.pdf\")\n",
    "\n",
    "        # Create a PdfPages object to store the figure\n",
    "        with PdfPages(pdf_filename) as pdf:\n",
    "            # Create a figure for all histograms\n",
    "            fig, axes = plt.subplots(5, 4, figsize=(20, 15))  # Adjust rows/cols as needed\n",
    "            axes = axes.flatten()  # Flatten the 2D array of axes to make indexing easier\n",
    "\n",
    "            for i in range(1, 18):  # SDGs 1 through 17\n",
    "                rescaled_column_name = f\"rescaled_sdg{i}\"\n",
    "                if rescaled_column_name in df.columns:\n",
    "                    ax = axes[i - 1]  # Access the corresponding subplot\n",
    "                    sns.histplot(df[rescaled_column_name], kde=True, color=SDG_COLORS[i], bins=10, ax=ax)\n",
    "                    ax.set_title(f\"Rescaled SDG {i} ({model_name})\", fontsize=10)\n",
    "                    ax.set_xlabel(f\"Rescaled SDG {i} Values\", fontsize=8)\n",
    "                    ax.set_ylabel(\"Frequency\", fontsize=8)\n",
    "                    ax.grid(axis=\"y\", linestyle=\"--\", alpha=0.7)\n",
    "\n",
    "            # Remove unused subplots (18th and 19th positions in this case)\n",
    "            for j in range(17, len(axes)):\n",
    "                fig.delaxes(axes[j])\n",
    "\n",
    "            # Adjust layout\n",
    "            plt.tight_layout()\n",
    "\n",
    "            # Save the single figure with all histograms into the PDF\n",
    "            pdf.savefig(fig)\n",
    "            plt.close(fig)  # Close the figure to free memory\n",
    "\n",
    "        print(f\"Saved all rescaled histograms for model {model_name} in {pdf_filename}\")\n",
    "    else:\n",
    "        pass"
   ],
   "id": "d2238c8db69642e8",
   "outputs": [
    {
     "name": "stdout",
     "output_type": "stream",
     "text": [
      "Plotting and saving histograms for rescaled columns of model: Aurora using subplots in a single PDF\n",
      "Saved all rescaled histograms for model Aurora in sdg_histograms/Aurora_All_Rescaled_SDG_Histograms_Subplots.pdf\n"
     ]
    }
   ],
   "execution_count": 39
  },
  {
   "metadata": {
    "ExecuteTime": {
     "end_time": "2024-11-28T21:22:03.698357Z",
     "start_time": "2024-11-28T21:21:34.104700Z"
    }
   },
   "cell_type": "code",
   "source": [
    "def softmax_scaling(row):\n",
    "    candidate_columns = [f\"sdg{i}\" for i in range(1, 17)]\n",
    "    zero_class = \"sdg17\"\n",
    "\n",
    "    # Identify the winner class (maximum value among SDG 1-16)\n",
    "    winner_column = row[candidate_columns].idxmax()\n",
    "    winner_value = row[winner_column]\n",
    "    zero_value = row[zero_class]\n",
    "\n",
    "    # Compute scaling factor\n",
    "    total = winner_value + zero_value\n",
    "    if total == 0:  # Avoid division by zero\n",
    "        return {col: 0 for col in candidate_columns + [zero_class]}\n",
    "\n",
    "    scale = 1 / total\n",
    "\n",
    "    # Scale all values proportionally\n",
    "    scaled_values = {col: row[col] * scale for col in candidate_columns + [zero_class]}\n",
    "    return scaled_values\n",
    "\n",
    "for prediction in model_predictions:\n",
    "    model_name = prediction.name\n",
    "\n",
    "    if model_name == \"Dvdblk_Softmax\":\n",
    "        df = prediction.df\n",
    "\n",
    "        # Apply scaling\n",
    "        scaled_columns = df.apply(softmax_scaling, axis=1, result_type=\"expand\")\n",
    "\n",
    "        # Add scaled columns to the DataFrame\n",
    "        for col in scaled_columns.columns:\n",
    "            df[f\"softmax_scaled_{col}\"] = scaled_columns[col]\n",
    "\n",
    "        print(f\"Plotting and saving histograms for softmax scaled columns of model: {model_name}\")\n",
    "        for i in range(1, 18):  # SDGs 1 through 17\n",
    "            scaled_column_name = f\"softmax_scaled_sdg{i}\"\n",
    "            if scaled_column_name in df.columns:\n",
    "                # Plot the histogram for scaled values\n",
    "                plt.figure(figsize=(8, 6))\n",
    "                sns.histplot(df[scaled_column_name], kde=True, color=SDG_COLORS[i], bins=10)\n",
    "                plt.title(f\"Histogram for Softmax Scaled SDG (All) {i} ({model_name} model)\", fontsize=16)\n",
    "                plt.xlabel(f\"Softmax Scaled SDG {i} Values\", fontsize=14)\n",
    "                plt.ylabel(\"Frequency\", fontsize=14)\n",
    "                plt.grid(axis=\"y\", linestyle=\"--\", alpha=0.7)\n",
    "\n",
    "                # Save the plot as PDF\n",
    "                pdf_filename = os.path.join(output_dir, f\"{model_name}_Softmax_Scaled_All_SDG{i}.pdf\")\n",
    "                plt.savefig(pdf_filename, format=\"pdf\", bbox_inches=\"tight\")\n",
    "                plt.close()  # Close the plot to free memory\n",
    "    else:\n",
    "        pass\n"
   ],
   "id": "6c9a56bd3fdf56cb",
   "outputs": [
    {
     "name": "stdout",
     "output_type": "stream",
     "text": [
      "Plotting and saving histograms for softmax scaled columns of model: Dvdblk_Softmax\n"
     ]
    }
   ],
   "execution_count": 40
  },
  {
   "metadata": {
    "ExecuteTime": {
     "end_time": "2024-11-28T21:22:42.117413Z",
     "start_time": "2024-11-28T21:22:12.209680Z"
    }
   },
   "cell_type": "code",
   "source": [
    "from matplotlib.backends.backend_pdf import PdfPages\n",
    "\n",
    "def softmax_scaling(row):\n",
    "    candidate_columns = [f\"sdg{i}\" for i in range(1, 17)]\n",
    "    zero_class = \"sdg17\"\n",
    "\n",
    "    # Identify the winner class (maximum value among SDG 1-16)\n",
    "    winner_column = row[candidate_columns].idxmax()\n",
    "    winner_value = row[winner_column]\n",
    "    zero_value = row[zero_class]\n",
    "\n",
    "    # Compute scaling factor\n",
    "    total = winner_value + zero_value\n",
    "    if total == 0:  # Avoid division by zero\n",
    "        return {col: 0 for col in candidate_columns + [zero_class]}\n",
    "\n",
    "    scale = 1 / total\n",
    "\n",
    "    # Scale all values proportionally\n",
    "    scaled_values = {col: row[col] * scale for col in candidate_columns + [zero_class]}\n",
    "    return scaled_values\n",
    "\n",
    "# Process the specific model\n",
    "for prediction in model_predictions:\n",
    "    model_name = prediction.name\n",
    "\n",
    "    if model_name == \"Dvdblk_Softmax\":\n",
    "        df = prediction.df\n",
    "\n",
    "        # Apply scaling\n",
    "        scaled_columns = df.apply(softmax_scaling, axis=1, result_type=\"expand\")\n",
    "\n",
    "        # Add scaled columns to the DataFrame\n",
    "        for col in scaled_columns.columns:\n",
    "            df[f\"softmax_scaled_{col}\"] = scaled_columns[col]\n",
    "\n",
    "        print(f\"Plotting and saving histograms for softmax scaled columns of model: {model_name} using subplots in a single PDF\")\n",
    "\n",
    "        # Define the output PDF filename\n",
    "        pdf_filename = os.path.join(output_dir, f\"{model_name}_Softmax_Scaled_All_SDG_Histograms_Subplots.pdf\")\n",
    "\n",
    "        # Create a PdfPages object to store the figure\n",
    "        with PdfPages(pdf_filename) as pdf:\n",
    "            # Create a figure for all histograms\n",
    "            fig, axes = plt.subplots(5, 4, figsize=(20, 15))  # Adjust rows/cols as needed\n",
    "            axes = axes.flatten()  # Flatten the 2D array of axes to make indexing easier\n",
    "\n",
    "            for i in range(1, 18):  # SDGs 1 through 17\n",
    "                scaled_column_name = f\"softmax_scaled_sdg{i}\"\n",
    "                if scaled_column_name in df.columns:\n",
    "                    ax = axes[i - 1]  # Access the corresponding subplot\n",
    "                    sns.histplot(df[scaled_column_name], kde=True, color=SDG_COLORS[i], bins=10, ax=ax)\n",
    "                    ax.set_title(f\"Softmax Scaled SDG {i} ({model_name})\", fontsize=10)\n",
    "                    ax.set_xlabel(f\"Softmax Scaled SDG {i} Values\", fontsize=8)\n",
    "                    ax.set_ylabel(\"Frequency\", fontsize=8)\n",
    "                    ax.grid(axis=\"y\", linestyle=\"--\", alpha=0.7)\n",
    "\n",
    "            # Remove unused subplots (18th and 19th positions in this case)\n",
    "            for j in range(17, len(axes)):\n",
    "                fig.delaxes(axes[j])\n",
    "\n",
    "            # Adjust layout\n",
    "            plt.tight_layout()\n",
    "\n",
    "            # Save the single figure with all histograms into the PDF\n",
    "            pdf.savefig(fig)\n",
    "            plt.close(fig)  # Close the figure to free memory\n",
    "\n",
    "        print(f\"Saved all softmax scaled histograms for model {model_name} in {pdf_filename}\")\n",
    "    else:\n",
    "        pass\n"
   ],
   "id": "335cd96c20ec0d4c",
   "outputs": [
    {
     "name": "stdout",
     "output_type": "stream",
     "text": [
      "Plotting and saving histograms for softmax scaled columns of model: Dvdblk_Softmax using subplots in a single PDF\n",
      "Saved all softmax scaled histograms for model Dvdblk_Softmax in sdg_histograms/Dvdblk_Softmax_Softmax_Scaled_All_SDG_Histograms_Subplots.pdf\n"
     ]
    }
   ],
   "execution_count": 41
  },
  {
   "metadata": {
    "ExecuteTime": {
     "end_time": "2024-11-28T21:23:17.731505Z",
     "start_time": "2024-11-28T21:22:49.663511Z"
    }
   },
   "cell_type": "code",
   "source": [
    "def partial_softmax_scaling(row):\n",
    "    candidate_columns = [f\"sdg{i}\" for i in range(1, 17)]\n",
    "    zero_class = \"sdg17\"\n",
    "\n",
    "    # Identify the winner class (maximum value among SDG 1-16)\n",
    "    winner_column = row[candidate_columns].idxmax()\n",
    "    winner_value = row[winner_column]\n",
    "    zero_value = row[zero_class]\n",
    "\n",
    "    # Compute scaling factor\n",
    "    total = winner_value + zero_value\n",
    "    if total == 0:  # Avoid division by zero\n",
    "        return {col: row[col] for col in candidate_columns + [zero_class]}\n",
    "\n",
    "    scale = 1 / total\n",
    "\n",
    "    # Scale only winner and zero class\n",
    "    scaled_values = {col: row[col] for col in candidate_columns + [zero_class]}\n",
    "    scaled_values[winner_column] *= scale\n",
    "    scaled_values[zero_class] *= scale\n",
    "    return scaled_values\n",
    "\n",
    "# Apply softmax scaling to all rows\n",
    "for prediction in model_predictions:\n",
    "    model_name = prediction.name\n",
    "\n",
    "    if model_name == \"Dvdblk_Softmax\":\n",
    "        df = prediction.df\n",
    "\n",
    "        # Apply scaling\n",
    "        scaled_columns = df.apply(softmax_scaling, axis=1, result_type=\"expand\")\n",
    "\n",
    "        # Add scaled columns to the DataFrame\n",
    "        for col in scaled_columns.columns:\n",
    "            df[f\"softmax_scaled_{col}\"] = scaled_columns[col]\n",
    "\n",
    "        print(f\"Plotting and saving histograms for softmax scaled columns of model: {model_name}\")\n",
    "        for i in range(1, 18):  # SDGs 1 through 17\n",
    "            scaled_column_name = f\"softmax_scaled_sdg{i}\"\n",
    "            if scaled_column_name in df.columns:\n",
    "                # Plot the histogram for scaled values\n",
    "                plt.figure(figsize=(8, 6))\n",
    "                sns.histplot(df[scaled_column_name], kde=True, color=SDG_COLORS[i], bins=10)\n",
    "                plt.title(f\"Histogram for Softmax Scaled SDG (Winner-Null) {i} ({model_name} model)\", fontsize=16)\n",
    "                plt.xlabel(f\"Softmax Scaled SDG {i} Values\", fontsize=14)\n",
    "                plt.ylabel(\"Frequency\", fontsize=14)\n",
    "                plt.grid(axis=\"y\", linestyle=\"--\", alpha=0.7)\n",
    "\n",
    "                # Save the plot as PDF\n",
    "                pdf_filename = os.path.join(output_dir, f\"{model_name}_Softmax_Scaled_Winner_Null_SDG{i}.pdf\")\n",
    "                plt.savefig(pdf_filename, format=\"pdf\", bbox_inches=\"tight\")\n",
    "                plt.close()  # Close the plot to free memory\n",
    "    else:\n",
    "        pass"
   ],
   "id": "1adf587ea673d65d",
   "outputs": [
    {
     "name": "stdout",
     "output_type": "stream",
     "text": [
      "Plotting and saving histograms for softmax scaled columns of model: Dvdblk_Softmax\n"
     ]
    }
   ],
   "execution_count": 42
  },
  {
   "metadata": {
    "ExecuteTime": {
     "end_time": "2024-11-28T21:23:53.172064Z",
     "start_time": "2024-11-28T21:23:25.623600Z"
    }
   },
   "cell_type": "code",
   "source": [
    "from matplotlib.backends.backend_pdf import PdfPages\n",
    "\n",
    "def partial_softmax_scaling(row):\n",
    "    candidate_columns = [f\"sdg{i}\" for i in range(1, 17)]\n",
    "    zero_class = \"sdg17\"\n",
    "\n",
    "    # Identify the winner class (maximum value among SDG 1-16)\n",
    "    winner_column = row[candidate_columns].idxmax()\n",
    "    winner_value = row[winner_column]\n",
    "    zero_value = row[zero_class]\n",
    "\n",
    "    # Compute scaling factor\n",
    "    total = winner_value + zero_value\n",
    "    if total == 0:  # Avoid division by zero\n",
    "        return {col: row[col] for col in candidate_columns + [zero_class]}\n",
    "\n",
    "    scale = 1 / total\n",
    "\n",
    "    # Scale only winner and zero class\n",
    "    scaled_values = {col: row[col] for col in candidate_columns + [zero_class]}\n",
    "    scaled_values[winner_column] *= scale\n",
    "    scaled_values[zero_class] *= scale\n",
    "    return scaled_values\n",
    "\n",
    "# Process the specific model\n",
    "for prediction in model_predictions:\n",
    "    model_name = prediction.name\n",
    "\n",
    "    if model_name == \"Dvdblk_Softmax\":\n",
    "        df = prediction.df\n",
    "\n",
    "        # Apply scaling\n",
    "        scaled_columns = df.apply(partial_softmax_scaling, axis=1, result_type=\"expand\")\n",
    "\n",
    "        # Add scaled columns to the DataFrame\n",
    "        for col in scaled_columns.columns:\n",
    "            df[f\"softmax_scaled_{col}\"] = scaled_columns[col]\n",
    "\n",
    "        print(f\"Plotting and saving histograms for partial softmax scaled columns of model: {model_name} using subplots in a single PDF\")\n",
    "\n",
    "        # Define the output PDF filename\n",
    "        pdf_filename = os.path.join(output_dir, f\"{model_name}_Partial_Softmax_Scaled_Winner_Null_SDG_Histograms_Subplots.pdf\")\n",
    "\n",
    "        # Create a PdfPages object to store the figure\n",
    "        with PdfPages(pdf_filename) as pdf:\n",
    "            # Create a figure for all histograms\n",
    "            fig, axes = plt.subplots(5, 4, figsize=(20, 15))  # Adjust rows/cols as needed\n",
    "            axes = axes.flatten()  # Flatten the 2D array of axes to make indexing easier\n",
    "\n",
    "            for i in range(1, 18):  # SDGs 1 through 17\n",
    "                scaled_column_name = f\"softmax_scaled_sdg{i}\"\n",
    "                if scaled_column_name in df.columns:\n",
    "                    ax = axes[i - 1]  # Access the corresponding subplot\n",
    "                    sns.histplot(df[scaled_column_name], kde=True, color=SDG_COLORS[i], bins=10, ax=ax)\n",
    "                    ax.set_title(f\"Partial Softmax Scaled SDG {i} ({model_name})\", fontsize=10)\n",
    "                    ax.set_xlabel(f\"Scaled SDG {i} Values\", fontsize=8)\n",
    "                    ax.set_ylabel(\"Frequency\", fontsize=8)\n",
    "                    ax.grid(axis=\"y\", linestyle=\"--\", alpha=0.7)\n",
    "\n",
    "            # Remove unused subplots (18th and 19th positions in this case)\n",
    "            for j in range(17, len(axes)):\n",
    "                fig.delaxes(axes[j])\n",
    "\n",
    "            # Adjust layout\n",
    "            plt.tight_layout()\n",
    "\n",
    "            # Save the single figure with all histograms into the PDF\n",
    "            pdf.savefig(fig)\n",
    "            plt.close(fig)  # Close the figure to free memory\n",
    "\n",
    "        print(f\"Saved all partial softmax scaled histograms for model {model_name} in {pdf_filename}\")\n",
    "    else:\n",
    "        pass\n"
   ],
   "id": "3659e69730cfcd7",
   "outputs": [
    {
     "name": "stdout",
     "output_type": "stream",
     "text": [
      "Plotting and saving histograms for partial softmax scaled columns of model: Dvdblk_Softmax using subplots in a single PDF\n",
      "Saved all partial softmax scaled histograms for model Dvdblk_Softmax in sdg_histograms/Dvdblk_Softmax_Partial_Softmax_Scaled_Winner_Null_SDG_Histograms_Subplots.pdf\n"
     ]
    }
   ],
   "execution_count": 43
  },
  {
   "metadata": {
    "ExecuteTime": {
     "end_time": "2024-11-28T21:24:00.457712Z",
     "start_time": "2024-11-28T21:24:00.455479Z"
    }
   },
   "cell_type": "code",
   "source": "",
   "id": "5eace21112a8d6dd",
   "outputs": [],
   "execution_count": null
  }
 ],
 "metadata": {
  "kernelspec": {
   "name": "python3",
   "language": "python",
   "display_name": "Python 3 (ipykernel)"
  }
 },
 "nbformat": 5,
 "nbformat_minor": 9
}
